{
 "cells": [
  {
   "cell_type": "markdown",
   "source": [
    "## import library"
   ],
   "metadata": {
    "collapsed": false
   }
  },
  {
   "cell_type": "code",
   "execution_count": 41,
   "metadata": {
    "collapsed": true
   },
   "outputs": [],
   "source": [
    "import numpy as np\n",
    "import pandas as pd"
   ]
  },
  {
   "cell_type": "markdown",
   "source": [
    "##  add data"
   ],
   "metadata": {
    "collapsed": false
   }
  },
  {
   "cell_type": "code",
   "execution_count": 55,
   "outputs": [],
   "source": [
    "\n",
    "data = {\n",
    "\n",
    "    'Math Score': [85, 66, 95, 58, 77, 80, 45, 90, 62, 78, 72, 53, 88, 67, 81, 60, 84, 55, 92, 70, 83, 49, 78, 63, 91, 69, 85, 54, 89, 65, 82, 48, 77, 60, 86, 64, 93, 58, 75, 66, 87, 52, 79, 61, 90, 68, 83, 55, 88, 71],\n",
    "    'English Score': [78, 72, 88, 64, 69, 73, 50, 85, 58, 82, 68, 60, 80, 70, 75, 65, 77, 59, 86, 73, 76, 52, 81, 60, 85, 67, 79, 56, 84, 62, 78, 50, 73, 64, 81, 67, 88, 60, 72, 70, 83, 54, 76, 63, 84, 65, 79, 57, 82, 69],\n",
    "    'Science Score': [92, 70, 90, 55, 80, 86, 47, 93, 66, 74, 75, 57, 91, 65, 89, 62, 88, 52, 94, 69, 87, 48, 76, 64, 92, 68, 90, 53, 92, 63, 85, 49, 79, 58, 87, 63, 94, 57, 78, 67, 88, 53, 80, 62, 93, 66, 86, 54, 89, 72],\n",
    "    'Satisfaction': [1, 0, 1, 0, 1, 1, 0, 1, 0, 1, 1, 0, 1, 0, 1, 0, 1, 0, 1, 0, 1, 0, 1, 0, 1, 0, 1, 0, 1, 0, 1, 0, 1, 0, 1, 0, 1, 0, 1, 0, 1, 0, 1, 0, 1, 0, 1, 0, 1, 0]\n",
    "}\n",
    "\n",
    "df = pd.DataFrame(data)\n",
    "\n",
    "\n",
    "\n",
    "\n"
   ],
   "metadata": {
    "collapsed": false,
    "pycharm": {
     "name": "#%%\n"
    }
   }
  },
  {
   "cell_type": "markdown",
   "source": [
    "### save data"
   ],
   "metadata": {
    "collapsed": false
   }
  },
  {
   "cell_type": "code",
   "execution_count": 56,
   "outputs": [],
   "source": [
    "df.to_csv('student_satisfaction_1.csv')"
   ],
   "metadata": {
    "collapsed": false,
    "pycharm": {
     "name": "#%%\n"
    }
   }
  },
  {
   "cell_type": "code",
   "execution_count": 63,
   "outputs": [
    {
     "data": {
      "text/plain": "    Math Score  English Score  Science Score  Satisfaction\n0           85             78             92             1\n1           66             72             70             0\n2           95             88             90             1\n3           58             64             55             0\n4           77             69             80             1\n5           80             73             86             1\n6           45             50             47             0\n7           90             85             93             1\n8           62             58             66             0\n9           78             82             74             1\n10          72             68             75             1\n11          53             60             57             0\n12          88             80             91             1\n13          67             70             65             0\n14          81             75             89             1\n15          60             65             62             0\n16          84             77             88             1\n17          55             59             52             0\n18          92             86             94             1\n19          70             73             69             0\n20          83             76             87             1\n21          49             52             48             0\n22          78             81             76             1\n23          63             60             64             0\n24          91             85             92             1\n25          69             67             68             0\n26          85             79             90             1\n27          54             56             53             0\n28          89             84             92             1\n29          65             62             63             0\n30          82             78             85             1\n31          48             50             49             0\n32          77             73             79             1\n33          60             64             58             0\n34          86             81             87             1\n35          64             67             63             0\n36          93             88             94             1\n37          58             60             57             0\n38          75             72             78             1\n39          66             70             67             0\n40          87             83             88             1\n41          52             54             53             0\n42          79             76             80             1\n43          61             63             62             0\n44          90             84             93             1\n45          68             65             66             0\n46          83             79             86             1\n47          55             57             54             0\n48          88             82             89             1\n49          71             69             72             0",
      "text/html": "<div>\n<style scoped>\n    .dataframe tbody tr th:only-of-type {\n        vertical-align: middle;\n    }\n\n    .dataframe tbody tr th {\n        vertical-align: top;\n    }\n\n    .dataframe thead th {\n        text-align: right;\n    }\n</style>\n<table border=\"1\" class=\"dataframe\">\n  <thead>\n    <tr style=\"text-align: right;\">\n      <th></th>\n      <th>Math Score</th>\n      <th>English Score</th>\n      <th>Science Score</th>\n      <th>Satisfaction</th>\n    </tr>\n  </thead>\n  <tbody>\n    <tr>\n      <th>0</th>\n      <td>85</td>\n      <td>78</td>\n      <td>92</td>\n      <td>1</td>\n    </tr>\n    <tr>\n      <th>1</th>\n      <td>66</td>\n      <td>72</td>\n      <td>70</td>\n      <td>0</td>\n    </tr>\n    <tr>\n      <th>2</th>\n      <td>95</td>\n      <td>88</td>\n      <td>90</td>\n      <td>1</td>\n    </tr>\n    <tr>\n      <th>3</th>\n      <td>58</td>\n      <td>64</td>\n      <td>55</td>\n      <td>0</td>\n    </tr>\n    <tr>\n      <th>4</th>\n      <td>77</td>\n      <td>69</td>\n      <td>80</td>\n      <td>1</td>\n    </tr>\n    <tr>\n      <th>5</th>\n      <td>80</td>\n      <td>73</td>\n      <td>86</td>\n      <td>1</td>\n    </tr>\n    <tr>\n      <th>6</th>\n      <td>45</td>\n      <td>50</td>\n      <td>47</td>\n      <td>0</td>\n    </tr>\n    <tr>\n      <th>7</th>\n      <td>90</td>\n      <td>85</td>\n      <td>93</td>\n      <td>1</td>\n    </tr>\n    <tr>\n      <th>8</th>\n      <td>62</td>\n      <td>58</td>\n      <td>66</td>\n      <td>0</td>\n    </tr>\n    <tr>\n      <th>9</th>\n      <td>78</td>\n      <td>82</td>\n      <td>74</td>\n      <td>1</td>\n    </tr>\n    <tr>\n      <th>10</th>\n      <td>72</td>\n      <td>68</td>\n      <td>75</td>\n      <td>1</td>\n    </tr>\n    <tr>\n      <th>11</th>\n      <td>53</td>\n      <td>60</td>\n      <td>57</td>\n      <td>0</td>\n    </tr>\n    <tr>\n      <th>12</th>\n      <td>88</td>\n      <td>80</td>\n      <td>91</td>\n      <td>1</td>\n    </tr>\n    <tr>\n      <th>13</th>\n      <td>67</td>\n      <td>70</td>\n      <td>65</td>\n      <td>0</td>\n    </tr>\n    <tr>\n      <th>14</th>\n      <td>81</td>\n      <td>75</td>\n      <td>89</td>\n      <td>1</td>\n    </tr>\n    <tr>\n      <th>15</th>\n      <td>60</td>\n      <td>65</td>\n      <td>62</td>\n      <td>0</td>\n    </tr>\n    <tr>\n      <th>16</th>\n      <td>84</td>\n      <td>77</td>\n      <td>88</td>\n      <td>1</td>\n    </tr>\n    <tr>\n      <th>17</th>\n      <td>55</td>\n      <td>59</td>\n      <td>52</td>\n      <td>0</td>\n    </tr>\n    <tr>\n      <th>18</th>\n      <td>92</td>\n      <td>86</td>\n      <td>94</td>\n      <td>1</td>\n    </tr>\n    <tr>\n      <th>19</th>\n      <td>70</td>\n      <td>73</td>\n      <td>69</td>\n      <td>0</td>\n    </tr>\n    <tr>\n      <th>20</th>\n      <td>83</td>\n      <td>76</td>\n      <td>87</td>\n      <td>1</td>\n    </tr>\n    <tr>\n      <th>21</th>\n      <td>49</td>\n      <td>52</td>\n      <td>48</td>\n      <td>0</td>\n    </tr>\n    <tr>\n      <th>22</th>\n      <td>78</td>\n      <td>81</td>\n      <td>76</td>\n      <td>1</td>\n    </tr>\n    <tr>\n      <th>23</th>\n      <td>63</td>\n      <td>60</td>\n      <td>64</td>\n      <td>0</td>\n    </tr>\n    <tr>\n      <th>24</th>\n      <td>91</td>\n      <td>85</td>\n      <td>92</td>\n      <td>1</td>\n    </tr>\n    <tr>\n      <th>25</th>\n      <td>69</td>\n      <td>67</td>\n      <td>68</td>\n      <td>0</td>\n    </tr>\n    <tr>\n      <th>26</th>\n      <td>85</td>\n      <td>79</td>\n      <td>90</td>\n      <td>1</td>\n    </tr>\n    <tr>\n      <th>27</th>\n      <td>54</td>\n      <td>56</td>\n      <td>53</td>\n      <td>0</td>\n    </tr>\n    <tr>\n      <th>28</th>\n      <td>89</td>\n      <td>84</td>\n      <td>92</td>\n      <td>1</td>\n    </tr>\n    <tr>\n      <th>29</th>\n      <td>65</td>\n      <td>62</td>\n      <td>63</td>\n      <td>0</td>\n    </tr>\n    <tr>\n      <th>30</th>\n      <td>82</td>\n      <td>78</td>\n      <td>85</td>\n      <td>1</td>\n    </tr>\n    <tr>\n      <th>31</th>\n      <td>48</td>\n      <td>50</td>\n      <td>49</td>\n      <td>0</td>\n    </tr>\n    <tr>\n      <th>32</th>\n      <td>77</td>\n      <td>73</td>\n      <td>79</td>\n      <td>1</td>\n    </tr>\n    <tr>\n      <th>33</th>\n      <td>60</td>\n      <td>64</td>\n      <td>58</td>\n      <td>0</td>\n    </tr>\n    <tr>\n      <th>34</th>\n      <td>86</td>\n      <td>81</td>\n      <td>87</td>\n      <td>1</td>\n    </tr>\n    <tr>\n      <th>35</th>\n      <td>64</td>\n      <td>67</td>\n      <td>63</td>\n      <td>0</td>\n    </tr>\n    <tr>\n      <th>36</th>\n      <td>93</td>\n      <td>88</td>\n      <td>94</td>\n      <td>1</td>\n    </tr>\n    <tr>\n      <th>37</th>\n      <td>58</td>\n      <td>60</td>\n      <td>57</td>\n      <td>0</td>\n    </tr>\n    <tr>\n      <th>38</th>\n      <td>75</td>\n      <td>72</td>\n      <td>78</td>\n      <td>1</td>\n    </tr>\n    <tr>\n      <th>39</th>\n      <td>66</td>\n      <td>70</td>\n      <td>67</td>\n      <td>0</td>\n    </tr>\n    <tr>\n      <th>40</th>\n      <td>87</td>\n      <td>83</td>\n      <td>88</td>\n      <td>1</td>\n    </tr>\n    <tr>\n      <th>41</th>\n      <td>52</td>\n      <td>54</td>\n      <td>53</td>\n      <td>0</td>\n    </tr>\n    <tr>\n      <th>42</th>\n      <td>79</td>\n      <td>76</td>\n      <td>80</td>\n      <td>1</td>\n    </tr>\n    <tr>\n      <th>43</th>\n      <td>61</td>\n      <td>63</td>\n      <td>62</td>\n      <td>0</td>\n    </tr>\n    <tr>\n      <th>44</th>\n      <td>90</td>\n      <td>84</td>\n      <td>93</td>\n      <td>1</td>\n    </tr>\n    <tr>\n      <th>45</th>\n      <td>68</td>\n      <td>65</td>\n      <td>66</td>\n      <td>0</td>\n    </tr>\n    <tr>\n      <th>46</th>\n      <td>83</td>\n      <td>79</td>\n      <td>86</td>\n      <td>1</td>\n    </tr>\n    <tr>\n      <th>47</th>\n      <td>55</td>\n      <td>57</td>\n      <td>54</td>\n      <td>0</td>\n    </tr>\n    <tr>\n      <th>48</th>\n      <td>88</td>\n      <td>82</td>\n      <td>89</td>\n      <td>1</td>\n    </tr>\n    <tr>\n      <th>49</th>\n      <td>71</td>\n      <td>69</td>\n      <td>72</td>\n      <td>0</td>\n    </tr>\n  </tbody>\n</table>\n</div>"
     },
     "execution_count": 63,
     "metadata": {},
     "output_type": "execute_result"
    }
   ],
   "source": [
    "df"
   ],
   "metadata": {
    "collapsed": false,
    "pycharm": {
     "name": "#%%\n"
    }
   }
  },
  {
   "cell_type": "code",
   "execution_count": 64,
   "outputs": [],
   "source": [
    "\n",
    "y=df.Satisfaction\n",
    "x=df.drop('Satisfaction',axis='columns')"
   ],
   "metadata": {
    "collapsed": false,
    "pycharm": {
     "name": "#%%\n"
    }
   }
  },
  {
   "cell_type": "code",
   "execution_count": 66,
   "outputs": [
    {
     "data": {
      "text/plain": "(50, 3)"
     },
     "execution_count": 66,
     "metadata": {},
     "output_type": "execute_result"
    }
   ],
   "source": [
    "x.shape"
   ],
   "metadata": {
    "collapsed": false,
    "pycharm": {
     "name": "#%%\n"
    }
   }
  },
  {
   "cell_type": "code",
   "execution_count": 67,
   "outputs": [
    {
     "data": {
      "text/plain": "(50,)"
     },
     "execution_count": 67,
     "metadata": {},
     "output_type": "execute_result"
    }
   ],
   "source": [
    "y.shape"
   ],
   "metadata": {
    "collapsed": false,
    "pycharm": {
     "name": "#%%\n"
    }
   }
  },
  {
   "cell_type": "markdown",
   "source": [
    "## split data to train and test"
   ],
   "metadata": {
    "collapsed": false
   }
  },
  {
   "cell_type": "code",
   "execution_count": 69,
   "outputs": [],
   "source": [
    "from  sklearn.model_selection import train_test_split\n",
    "X_train,X_test,y_train,y_test=train_test_split(x,y,test_size=0.25, random_state=42)"
   ],
   "metadata": {
    "collapsed": false,
    "pycharm": {
     "name": "#%%\n"
    }
   }
  },
  {
   "cell_type": "markdown",
   "source": [
    "### create preceptron"
   ],
   "metadata": {
    "collapsed": false
   }
  },
  {
   "cell_type": "code",
   "execution_count": 70,
   "outputs": [],
   "source": [
    "from sklearn.linear_model import Perceptron\n",
    "clf1=Perceptron(max_iter=1000,eta0=0.1)\n",
    "clf2=Perceptron(max_iter=1500,eta0=0.2)"
   ],
   "metadata": {
    "collapsed": false,
    "pycharm": {
     "name": "#%%\n"
    }
   }
  },
  {
   "cell_type": "markdown",
   "source": [
    "### train preceptron"
   ],
   "metadata": {
    "collapsed": false
   }
  },
  {
   "cell_type": "code",
   "execution_count": 72,
   "outputs": [
    {
     "data": {
      "text/plain": "Perceptron(eta0=0.2, max_iter=1500)",
      "text/html": "<style>#sk-container-id-2 {color: black;background-color: white;}#sk-container-id-2 pre{padding: 0;}#sk-container-id-2 div.sk-toggleable {background-color: white;}#sk-container-id-2 label.sk-toggleable__label {cursor: pointer;display: block;width: 100%;margin-bottom: 0;padding: 0.3em;box-sizing: border-box;text-align: center;}#sk-container-id-2 label.sk-toggleable__label-arrow:before {content: \"▸\";float: left;margin-right: 0.25em;color: #696969;}#sk-container-id-2 label.sk-toggleable__label-arrow:hover:before {color: black;}#sk-container-id-2 div.sk-estimator:hover label.sk-toggleable__label-arrow:before {color: black;}#sk-container-id-2 div.sk-toggleable__content {max-height: 0;max-width: 0;overflow: hidden;text-align: left;background-color: #f0f8ff;}#sk-container-id-2 div.sk-toggleable__content pre {margin: 0.2em;color: black;border-radius: 0.25em;background-color: #f0f8ff;}#sk-container-id-2 input.sk-toggleable__control:checked~div.sk-toggleable__content {max-height: 200px;max-width: 100%;overflow: auto;}#sk-container-id-2 input.sk-toggleable__control:checked~label.sk-toggleable__label-arrow:before {content: \"▾\";}#sk-container-id-2 div.sk-estimator input.sk-toggleable__control:checked~label.sk-toggleable__label {background-color: #d4ebff;}#sk-container-id-2 div.sk-label input.sk-toggleable__control:checked~label.sk-toggleable__label {background-color: #d4ebff;}#sk-container-id-2 input.sk-hidden--visually {border: 0;clip: rect(1px 1px 1px 1px);clip: rect(1px, 1px, 1px, 1px);height: 1px;margin: -1px;overflow: hidden;padding: 0;position: absolute;width: 1px;}#sk-container-id-2 div.sk-estimator {font-family: monospace;background-color: #f0f8ff;border: 1px dotted black;border-radius: 0.25em;box-sizing: border-box;margin-bottom: 0.5em;}#sk-container-id-2 div.sk-estimator:hover {background-color: #d4ebff;}#sk-container-id-2 div.sk-parallel-item::after {content: \"\";width: 100%;border-bottom: 1px solid gray;flex-grow: 1;}#sk-container-id-2 div.sk-label:hover label.sk-toggleable__label {background-color: #d4ebff;}#sk-container-id-2 div.sk-serial::before {content: \"\";position: absolute;border-left: 1px solid gray;box-sizing: border-box;top: 0;bottom: 0;left: 50%;z-index: 0;}#sk-container-id-2 div.sk-serial {display: flex;flex-direction: column;align-items: center;background-color: white;padding-right: 0.2em;padding-left: 0.2em;position: relative;}#sk-container-id-2 div.sk-item {position: relative;z-index: 1;}#sk-container-id-2 div.sk-parallel {display: flex;align-items: stretch;justify-content: center;background-color: white;position: relative;}#sk-container-id-2 div.sk-item::before, #sk-container-id-2 div.sk-parallel-item::before {content: \"\";position: absolute;border-left: 1px solid gray;box-sizing: border-box;top: 0;bottom: 0;left: 50%;z-index: -1;}#sk-container-id-2 div.sk-parallel-item {display: flex;flex-direction: column;z-index: 1;position: relative;background-color: white;}#sk-container-id-2 div.sk-parallel-item:first-child::after {align-self: flex-end;width: 50%;}#sk-container-id-2 div.sk-parallel-item:last-child::after {align-self: flex-start;width: 50%;}#sk-container-id-2 div.sk-parallel-item:only-child::after {width: 0;}#sk-container-id-2 div.sk-dashed-wrapped {border: 1px dashed gray;margin: 0 0.4em 0.5em 0.4em;box-sizing: border-box;padding-bottom: 0.4em;background-color: white;}#sk-container-id-2 div.sk-label label {font-family: monospace;font-weight: bold;display: inline-block;line-height: 1.2em;}#sk-container-id-2 div.sk-label-container {text-align: center;}#sk-container-id-2 div.sk-container {/* jupyter's `normalize.less` sets `[hidden] { display: none; }` but bootstrap.min.css set `[hidden] { display: none !important; }` so we also need the `!important` here to be able to override the default hidden behavior on the sphinx rendered scikit-learn.org. See: https://github.com/scikit-learn/scikit-learn/issues/21755 */display: inline-block !important;position: relative;}#sk-container-id-2 div.sk-text-repr-fallback {display: none;}</style><div id=\"sk-container-id-2\" class=\"sk-top-container\"><div class=\"sk-text-repr-fallback\"><pre>Perceptron(eta0=0.2, max_iter=1500)</pre><b>In a Jupyter environment, please rerun this cell to show the HTML representation or trust the notebook. <br />On GitHub, the HTML representation is unable to render, please try loading this page with nbviewer.org.</b></div><div class=\"sk-container\" hidden><div class=\"sk-item\"><div class=\"sk-estimator sk-toggleable\"><input class=\"sk-toggleable__control sk-hidden--visually\" id=\"sk-estimator-id-2\" type=\"checkbox\" checked><label for=\"sk-estimator-id-2\" class=\"sk-toggleable__label sk-toggleable__label-arrow\">Perceptron</label><div class=\"sk-toggleable__content\"><pre>Perceptron(eta0=0.2, max_iter=1500)</pre></div></div></div></div></div>"
     },
     "execution_count": 72,
     "metadata": {},
     "output_type": "execute_result"
    }
   ],
   "source": [
    "clf1.fit(X_train,y_train)\n",
    "clf2.fit(X_train,y_train)"
   ],
   "metadata": {
    "collapsed": false,
    "pycharm": {
     "name": "#%%\n"
    }
   }
  },
  {
   "cell_type": "markdown",
   "source": [
    "##test preceptron"
   ],
   "metadata": {
    "collapsed": false
   }
  },
  {
   "cell_type": "code",
   "execution_count": 75,
   "outputs": [
    {
     "name": "stdout",
     "output_type": "stream",
     "text": [
      "clf1 1.0\n",
      "clf2 1.0\n"
     ]
    }
   ],
   "source": [
    "print('clf1',clf1.score(X_test,y_test))\n",
    "print('clf2',clf2.score(X_test,y_test))\n"
   ],
   "metadata": {
    "collapsed": false,
    "pycharm": {
     "name": "#%%\n"
    }
   }
  }
 ],
 "metadata": {
  "kernelspec": {
   "display_name": "Python 3",
   "language": "python",
   "name": "python3"
  },
  "language_info": {
   "codemirror_mode": {
    "name": "ipython",
    "version": 2
   },
   "file_extension": ".py",
   "mimetype": "text/x-python",
   "name": "python",
   "nbconvert_exporter": "python",
   "pygments_lexer": "ipython2",
   "version": "2.7.6"
  }
 },
 "nbformat": 4,
 "nbformat_minor": 0
}