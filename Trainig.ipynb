{
 "cells": [
  {
   "cell_type": "markdown",
   "source": [
    "### section1\n",
    "## import library"
   ],
   "metadata": {
    "collapsed": false
   }
  },
  {
   "cell_type": "code",
   "execution_count": 1,
   "metadata": {
    "collapsed": true
   },
   "outputs": [],
   "source": [
    "import numpy as np\n",
    "import random"
   ]
  },
  {
   "cell_type": "markdown",
   "source": [
    "# distance between 2 city"
   ],
   "metadata": {
    "collapsed": false
   }
  },
  {
   "cell_type": "code",
   "execution_count": 2,
   "outputs": [],
   "source": [
    "distance_matrix = np.array([\n",
    "    [0, 3, 9, 10, 2, 5, 3, 8],\n",
    "    [1, 0, 6, 3, 4, 5, 7, 9],\n",
    "    [9, 6, 0, 8, 7, 4, 1, 6],\n",
    "    [10, 4, 8, 0, 1, 6, 9, 5],\n",
    "    [2, 3, 7, 1, 0, 4, 8, 4],\n",
    "    [5, 5, 4, 6, 4, 0, 1, 7],\n",
    "    [4, 7, 1, 9, 8, 1, 0, 4],\n",
    "    [8, 9, 6, 5, 4, 7, 4, 0]\n",
    "])"
   ],
   "metadata": {
    "collapsed": false,
    "pycharm": {
     "name": "#%%\n"
    }
   }
  },
  {
   "cell_type": "markdown",
   "source": [
    "initial_population"
   ],
   "metadata": {
    "collapsed": false
   }
  },
  {
   "cell_type": "code",
   "execution_count": 3,
   "outputs": [],
   "source": [
    "population_size = 24\n",
    "num_cities = 8\n",
    "\n",
    "# ایجاد یک نسل اولیه به صورت تصادفی\n",
    "def create_initial_population(population_size, num_cities):\n",
    "    population = []\n",
    "    for _ in range(population_size):\n",
    "        chromosome = list(np.random.permutation(num_cities))\n",
    "        population.append(chromosome)\n",
    "    return population\n",
    "\n"
   ],
   "metadata": {
    "collapsed": false,
    "pycharm": {
     "name": "#%%\n"
    }
   }
  },
  {
   "cell_type": "code",
   "execution_count": 4,
   "outputs": [
    {
     "name": "stdout",
     "output_type": "stream",
     "text": [
      "Initial Population:\n",
      "[2, 4, 5, 1, 0, 3, 6, 7]\n",
      "[0, 2, 3, 4, 7, 6, 5, 1]\n",
      "[6, 4, 0, 5, 7, 3, 2, 1]\n",
      "[0, 1, 3, 6, 4, 2, 7, 5]\n",
      "[3, 4, 2, 1, 7, 5, 6, 0]\n",
      "[6, 2, 5, 0, 7, 1, 4, 3]\n",
      "[1, 5, 7, 0, 4, 6, 3, 2]\n",
      "[0, 2, 1, 5, 3, 4, 6, 7]\n",
      "[3, 4, 6, 5, 0, 2, 7, 1]\n",
      "[3, 0, 6, 4, 2, 1, 7, 5]\n",
      "[2, 4, 5, 3, 7, 1, 6, 0]\n",
      "[1, 7, 0, 4, 6, 3, 5, 2]\n",
      "[2, 1, 4, 0, 3, 6, 5, 7]\n",
      "[1, 0, 2, 5, 7, 4, 6, 3]\n",
      "[3, 0, 7, 6, 2, 4, 5, 1]\n",
      "[6, 0, 1, 7, 2, 3, 4, 5]\n",
      "[3, 4, 2, 5, 7, 0, 6, 1]\n",
      "[2, 5, 7, 1, 0, 4, 3, 6]\n",
      "[2, 5, 6, 3, 4, 1, 7, 0]\n",
      "[1, 2, 6, 0, 4, 3, 5, 7]\n",
      "[5, 1, 3, 4, 7, 2, 0, 6]\n",
      "[0, 2, 1, 3, 4, 6, 5, 7]\n",
      "[7, 5, 2, 1, 3, 6, 4, 0]\n",
      "[6, 7, 5, 0, 1, 4, 2, 3]\n"
     ]
    }
   ],
   "source": [
    "initial_population = create_initial_population(population_size, num_cities)\n",
    "print(\"Initial Population:\")\n",
    "for chromosome in initial_population:\n",
    "    print(chromosome)"
   ],
   "metadata": {
    "collapsed": false,
    "pycharm": {
     "name": "#%%\n"
    }
   }
  },
  {
   "cell_type": "code",
   "execution_count": 5,
   "outputs": [],
   "source": [
    "def tournament_selection(population, tournament_size=3):\n",
    "    parents = []\n",
    "    for _ in range(len(population) // 2):\n",
    "        tournament = random.sample(population, tournament_size)\n",
    "        parent1 = min(tournament, key=lambda t: fitness(t))\n",
    "        tournament = random.sample(population, tournament_size)\n",
    "        parent2 = min(tournament, key=lambda t: fitness(t))\n",
    "        parents.append((parent1, parent2))\n",
    "    return parents"
   ],
   "metadata": {
    "collapsed": false,
    "pycharm": {
     "name": "#%%\n"
    }
   }
  },
  {
   "cell_type": "code",
   "execution_count": 6,
   "outputs": [],
   "source": [
    "# تابع ارزیابی (fitness) بر اساس طول مسیر کروموزوم\n",
    "def fitness(chromosome):\n",
    "    total_distance = 0\n",
    "    for i in range(len(chromosome)):\n",
    "        total_distance += distance_matrix[chromosome[i-1], chromosome[i]]\n",
    "    return total_distance"
   ],
   "metadata": {
    "collapsed": false,
    "pycharm": {
     "name": "#%%\n"
    }
   }
  },
  {
   "cell_type": "code",
   "execution_count": 7,
   "outputs": [
    {
     "name": "stdout",
     "output_type": "stream",
     "text": [
      "Selected Parents:\n",
      "Parent1: [0, 2, 3, 4, 7, 6, 5, 1] Parent2: [3, 4, 2, 5, 7, 0, 6, 1]\n",
      "Parent1: [0, 2, 3, 4, 7, 6, 5, 1] Parent2: [6, 0, 1, 7, 2, 3, 4, 5]\n",
      "Parent1: [2, 5, 7, 1, 0, 4, 3, 6] Parent2: [3, 4, 2, 5, 7, 0, 6, 1]\n",
      "Parent1: [1, 2, 6, 0, 4, 3, 5, 7] Parent2: [2, 5, 7, 1, 0, 4, 3, 6]\n",
      "Parent1: [3, 4, 2, 5, 7, 0, 6, 1] Parent2: [3, 4, 2, 5, 7, 0, 6, 1]\n",
      "Parent1: [5, 1, 3, 4, 7, 2, 0, 6] Parent2: [2, 1, 4, 0, 3, 6, 5, 7]\n",
      "Parent1: [3, 4, 2, 1, 7, 5, 6, 0] Parent2: [0, 2, 1, 3, 4, 6, 5, 7]\n",
      "Parent1: [3, 4, 6, 5, 0, 2, 7, 1] Parent2: [1, 2, 6, 0, 4, 3, 5, 7]\n",
      "Parent1: [2, 1, 4, 0, 3, 6, 5, 7] Parent2: [6, 0, 1, 7, 2, 3, 4, 5]\n",
      "Parent1: [6, 0, 1, 7, 2, 3, 4, 5] Parent2: [3, 4, 2, 5, 7, 0, 6, 1]\n",
      "Parent1: [3, 4, 2, 1, 7, 5, 6, 0] Parent2: [0, 2, 3, 4, 7, 6, 5, 1]\n",
      "Parent1: [2, 5, 7, 1, 0, 4, 3, 6] Parent2: [1, 0, 2, 5, 7, 4, 6, 3]\n"
     ]
    }
   ],
   "source": [
    "parents = tournament_selection(initial_population)\n",
    "print(\"Selected Parents:\")\n",
    "for parent1, parent2 in parents:\n",
    "    print(\"Parent1:\", parent1, \"Parent2:\", parent2)"
   ],
   "metadata": {
    "collapsed": false,
    "pycharm": {
     "name": "#%%\n"
    }
   }
  },
  {
   "cell_type": "markdown",
   "source": [
    "## crossover"
   ],
   "metadata": {
    "collapsed": false
   }
  },
  {
   "cell_type": "code",
   "execution_count": 8,
   "outputs": [],
   "source": [
    "def crossover(parent1, parent2):\n",
    "    size = len(parent1)\n",
    "    cxpoint1 = random.randint(0, size - 1)\n",
    "    cxpoint2 = random.randint(0, size - 1)\n",
    "\n",
    "    if cxpoint1 > cxpoint2:\n",
    "        cxpoint1, cxpoint2 = cxpoint2, cxpoint1\n",
    "\n",
    "    child1 = [None]*size\n",
    "    child2 = [None]*size\n",
    "\n",
    "\n",
    "    child1[cxpoint1:cxpoint2+1] = parent1[cxpoint1:cxpoint2+1]\n",
    "    child2[cxpoint1:cxpoint2+1] = parent2[cxpoint1:cxpoint2+1]\n",
    "\n",
    "    fill_positions(child1, parent2, cxpoint1, cxpoint2)\n",
    "    fill_positions(child2, parent1, cxpoint1, cxpoint2)\n",
    "\n",
    "    return child1, child2"
   ],
   "metadata": {
    "collapsed": false,
    "pycharm": {
     "name": "#%%\n"
    }
   }
  },
  {
   "cell_type": "code",
   "execution_count": 9,
   "outputs": [
    {
     "name": "stdout",
     "output_type": "stream",
     "text": [
      "Children:\n",
      "[5, 2, 3, 4, 7, 0, 6, 1]\n",
      "[3, 4, 2, 5, 7, 6, 1, 0]\n",
      "[0, 2, 3, 4, 7, 6, 5, 1]\n",
      "[6, 0, 1, 7, 2, 3, 4, 5]\n",
      "[2, 5, 7, 1, 0, 4, 6, 3]\n",
      "[3, 4, 2, 5, 7, 0, 6, 1]\n",
      "[5, 2, 7, 1, 0, 4, 3, 6]\n",
      "[2, 5, 6, 0, 4, 3, 7, 1]\n",
      "[3, 4, 2, 5, 7, 0, 6, 1]\n",
      "[3, 4, 2, 5, 7, 0, 6, 1]\n",
      "[5, 1, 3, 4, 7, 2, 0, 6]\n",
      "[2, 1, 4, 0, 3, 6, 5, 7]\n",
      "[3, 4, 2, 1, 6, 5, 7, 0]\n",
      "[0, 2, 1, 3, 7, 5, 6, 4]\n",
      "[3, 4, 6, 5, 7, 1, 2, 0]\n",
      "[1, 2, 6, 0, 7, 3, 4, 5]\n",
      "[2, 1, 7, 3, 4, 5, 6, 0]\n",
      "[6, 0, 4, 3, 5, 7, 2, 1]\n",
      "[6, 0, 1, 7, 2, 3, 4, 5]\n",
      "[3, 4, 2, 5, 7, 0, 6, 1]\n",
      "[2, 3, 4, 6, 7, 5, 1, 0]\n",
      "[4, 2, 1, 5, 7, 6, 0, 3]\n",
      "[2, 5, 7, 1, 0, 4, 3, 6]\n",
      "[1, 0, 2, 5, 7, 4, 6, 3]\n"
     ]
    }
   ],
   "source": [
    "def fill_positions(child, parent, cxpoint1, cxpoint2):\n",
    "    size = len(parent)\n",
    "    current_pos = (cxpoint2 + 1) % size\n",
    "    parent_pos = (cxpoint2 + 1) % size\n",
    "    while None in child:\n",
    "        if parent[parent_pos] not in child:\n",
    "            child[current_pos] = parent[parent_pos]\n",
    "            current_pos = (current_pos + 1) % size\n",
    "        parent_pos = (parent_pos + 1) % size\n",
    "\n",
    "children = []\n",
    "for parent1, parent2 in parents:\n",
    "    child1, child2 = crossover(parent1, parent2)\n",
    "    children.extend([child1, child2])\n",
    "\n",
    "print(\"Children:\")\n",
    "for child in children:\n",
    "    print(child)"
   ],
   "metadata": {
    "collapsed": false,
    "pycharm": {
     "name": "#%%\n"
    }
   }
  },
  {
   "cell_type": "code",
   "execution_count": 10,
   "outputs": [
    {
     "name": "stdout",
     "output_type": "stream",
     "text": [
      "Initial Population:\n",
      "[4, 2, 7, 3, 6, 1, 0, 5]\n",
      "[0, 1, 2, 4, 3, 5, 6, 7]\n",
      "[1, 2, 5, 7, 4, 6, 3, 0]\n",
      "[7, 4, 3, 5, 0, 6, 2, 1]\n",
      "[6, 1, 0, 7, 5, 3, 2, 4]\n",
      "[0, 7, 1, 5, 4, 6, 2, 3]\n",
      "[3, 0, 5, 4, 2, 7, 1, 6]\n",
      "[1, 6, 4, 0, 2, 7, 3, 5]\n",
      "[7, 2, 4, 6, 0, 5, 1, 3]\n",
      "[2, 5, 7, 4, 3, 0, 6, 1]\n",
      "[3, 1, 7, 2, 0, 6, 5, 4]\n",
      "[0, 7, 3, 5, 1, 2, 6, 4]\n",
      "[1, 4, 6, 5, 3, 2, 0, 7]\n",
      "[7, 5, 1, 3, 2, 4, 6, 0]\n",
      "[7, 2, 0, 6, 5, 3, 1, 4]\n",
      "[6, 7, 5, 3, 4, 1, 2, 0]\n",
      "[5, 4, 2, 1, 0, 7, 6, 3]\n",
      "[7, 5, 2, 3, 4, 6, 0, 1]\n",
      "[1, 7, 4, 3, 6, 5, 0, 2]\n",
      "[3, 7, 6, 2, 1, 0, 4, 5]\n",
      "[5, 4, 2, 1, 7, 3, 6, 0]\n",
      "[1, 5, 6, 2, 0, 4, 3, 7]\n",
      "[6, 7, 5, 4, 2, 3, 0, 1]\n",
      "[2, 6, 4, 0, 5, 1, 7, 3]\n",
      "Selected Parents:\n",
      "Parent1: [7, 4, 3, 5, 0, 6, 2, 1] Parent2: [1, 5, 6, 2, 0, 4, 3, 7]\n",
      "Parent1: [1, 5, 6, 2, 0, 4, 3, 7] Parent2: [3, 7, 6, 2, 1, 0, 4, 5]\n",
      "Parent1: [6, 7, 5, 3, 4, 1, 2, 0] Parent2: [4, 2, 7, 3, 6, 1, 0, 5]\n",
      "Parent1: [7, 2, 4, 6, 0, 5, 1, 3] Parent2: [7, 2, 0, 6, 5, 3, 1, 4]\n",
      "Parent1: [2, 5, 7, 4, 3, 0, 6, 1] Parent2: [7, 2, 0, 6, 5, 3, 1, 4]\n",
      "Parent1: [3, 7, 6, 2, 1, 0, 4, 5] Parent2: [2, 6, 4, 0, 5, 1, 7, 3]\n",
      "Parent1: [0, 7, 3, 5, 1, 2, 6, 4] Parent2: [3, 1, 7, 2, 0, 6, 5, 4]\n",
      "Parent1: [0, 1, 2, 4, 3, 5, 6, 7] Parent2: [6, 7, 5, 3, 4, 1, 2, 0]\n",
      "Parent1: [7, 4, 3, 5, 0, 6, 2, 1] Parent2: [7, 4, 3, 5, 0, 6, 2, 1]\n",
      "Parent1: [7, 2, 0, 6, 5, 3, 1, 4] Parent2: [0, 7, 3, 5, 1, 2, 6, 4]\n",
      "Parent1: [0, 1, 2, 4, 3, 5, 6, 7] Parent2: [0, 1, 2, 4, 3, 5, 6, 7]\n",
      "Parent1: [6, 7, 5, 3, 4, 1, 2, 0] Parent2: [7, 4, 3, 5, 0, 6, 2, 1]\n",
      "Children:\n",
      "[1, 5, 2, 4, 0, 6, 3, 7]\n",
      "[7, 3, 5, 6, 0, 4, 2, 1]\n",
      "[6, 1, 5, 2, 0, 4, 3, 7]\n",
      "[6, 3, 7, 2, 1, 0, 4, 5]\n",
      "[7, 6, 5, 3, 4, 1, 0, 2]\n",
      "[5, 4, 7, 3, 6, 1, 2, 0]\n",
      "[2, 3, 4, 6, 0, 5, 1, 7]\n",
      "[2, 4, 0, 6, 5, 3, 1, 7]\n",
      "[7, 2, 5, 1, 3, 0, 6, 4]\n",
      "[7, 4, 0, 6, 5, 3, 1, 2]\n",
      "[3, 6, 4, 0, 5, 1, 7, 2]\n",
      "[2, 7, 6, 1, 0, 4, 5, 3]\n",
      "[0, 7, 2, 6, 5, 4, 3, 1]\n",
      "[3, 1, 5, 2, 6, 4, 0, 7]\n",
      "[5, 3, 2, 4, 1, 0, 6, 7]\n",
      "[2, 4, 5, 3, 6, 7, 0, 1]\n",
      "[7, 4, 3, 5, 0, 6, 2, 1]\n",
      "[7, 4, 3, 5, 0, 6, 2, 1]\n",
      "[7, 2, 0, 6, 5, 3, 1, 4]\n",
      "[7, 0, 3, 5, 1, 2, 6, 4]\n",
      "[0, 1, 2, 4, 3, 5, 6, 7]\n",
      "[0, 1, 2, 4, 3, 5, 6, 7]\n",
      "[0, 6, 5, 3, 4, 1, 2, 7]\n",
      "[4, 1, 3, 5, 0, 6, 2, 7]\n"
     ]
    }
   ],
   "source": [
    "\n",
    "\n",
    "initial_population = create_initial_population(population_size, num_cities)\n",
    "print(\"Initial Population:\")\n",
    "for chromosome in initial_population:\n",
    "    print(chromosome)\n",
    "\n",
    "# تابع ارزیابی (fitness) بر اساس طول مسیر کروموزوم\n",
    "def fitness(chromosome):\n",
    "    total_distance = 0\n",
    "    for i in range(len(chromosome)):\n",
    "        total_distance += distance_matrix[chromosome[i-1], chromosome[i]]\n",
    "    return total_distance\n",
    "\n",
    "# انتخاب تورنمنت برای انتخاب 12 زوج والد\n",
    "def tournament_selection(population, tournament_size=3):\n",
    "    parents = []\n",
    "    for _ in range(len(population) // 2):\n",
    "        tournament = random.sample(population, tournament_size)\n",
    "        parent1 = min(tournament, key=lambda t: fitness(t))\n",
    "        tournament = random.sample(population, tournament_size)\n",
    "        parent2 = min(tournament, key=lambda t: fitness(t))\n",
    "        parents.append((parent1, parent2))\n",
    "    return parents\n",
    "\n",
    "parents = tournament_selection(initial_population)\n",
    "print(\"Selected Parents:\")\n",
    "for parent1, parent2 in parents:\n",
    "    print(\"Parent1:\", parent1, \"Parent2:\", parent2)\n",
    "\n",
    "# پیاده‌سازی تقاطع\n",
    "def crossover(parent1, parent2):\n",
    "    size = len(parent1)\n",
    "    cxpoint1 = random.randint(0, size - 1)\n",
    "    cxpoint2 = random.randint(0, size - 1)\n",
    "\n",
    "    if cxpoint1 > cxpoint2:\n",
    "        cxpoint1, cxpoint2 = cxpoint2, cxpoint1\n",
    "\n",
    "    child1 = [None]*size\n",
    "    child2 = [None]*size\n",
    "\n",
    "\n",
    "    child1[cxpoint1:cxpoint2+1] = parent1[cxpoint1:cxpoint2+1]\n",
    "    child2[cxpoint1:cxpoint2+1] = parent2[cxpoint1:cxpoint2+1]\n",
    "\n",
    "\n",
    "    fill_positions(child1, parent2, cxpoint1, cxpoint2)\n",
    "    fill_positions(child2, parent1, cxpoint1, cxpoint2)\n",
    "\n",
    "    return child1, child2\n",
    "\n",
    "def fill_positions(child, parent, cxpoint1, cxpoint2):\n",
    "    size = len(parent)\n",
    "    current_pos = (cxpoint2 + 1) % size\n",
    "    parent_pos = (cxpoint2 + 1) % size\n",
    "    while None in child:\n",
    "        if parent[parent_pos] not in child:\n",
    "            child[current_pos] = parent[parent_pos]\n",
    "            current_pos = (current_pos + 1) % size\n",
    "        parent_pos = (parent_pos + 1) % size\n",
    "\n",
    "# تولید فرزندان\n",
    "children = []\n",
    "for parent1, parent2 in parents:\n",
    "    child1, child2 = crossover(parent1, parent2)\n",
    "    children.extend([child1, child2])\n",
    "\n",
    "print(\"Children:\")\n",
    "for child in children:\n",
    "    print(child)\n"
   ],
   "metadata": {
    "collapsed": false,
    "pycharm": {
     "name": "#%%\n"
    }
   }
  },
  {
   "cell_type": "markdown",
   "source": [
    "## section part2"
   ],
   "metadata": {
    "collapsed": false
   }
  },
  {
   "cell_type": "markdown",
   "source": [
    "### insert pso"
   ],
   "metadata": {
    "collapsed": false
   }
  },
  {
   "cell_type": "code",
   "execution_count": 13,
   "outputs": [
    {
     "name": "stdout",
     "output_type": "stream",
     "text": [
      "Best Position: [0 1 3 2]\n",
      "Best Fitness: 80\n"
     ]
    }
   ],
   "source": [
    "\n",
    "\n",
    "class Particle:\n",
    "    def __init__(self, position):\n",
    "        self.position = position\n",
    "        self.velocity = np.zeros_like(position)\n",
    "        self.best_position = position\n",
    "        self.best_fitness = float('inf')\n",
    "\n",
    "def calculate_fitness(position, distance_matrix):\n",
    "    fitness = 0\n",
    "    for i in range(len(position) - 1):\n",
    "        fitness += distance_matrix[position[i], position[i+1]]\n",
    "    fitness += distance_matrix[position[-1], position[0]]  # Return to the starting city\n",
    "    return fitness\n",
    "\n",
    "def update_particle_velocity(particle, global_best_position, w, c1, c2):\n",
    "    r1 = np.random.rand(len(particle.position))\n",
    "    r2 = np.random.rand(len(particle.position))\n",
    "    cognitive_velocity = c1 * r1 * (particle.best_position - particle.position)\n",
    "    social_velocity = c2 * r2 * (global_best_position - particle.position)\n",
    "    particle.velocity = w * particle.velocity + cognitive_velocity + social_velocity\n",
    "\n",
    "def update_particle_position(particle):\n",
    "    particle.position = particle.position + particle.velocity\n",
    "    # Ensure the position remains a valid permutation\n",
    "    particle.position = np.argsort(particle.position)\n",
    "\n",
    "def pso(distance_matrix, num_particles, num_iterations):\n",
    "    global_best_position = None\n",
    "    global_best_fitness = float('inf')\n",
    "    particles = []\n",
    "\n",
    "    for _ in range(num_particles):\n",
    "        initial_position = np.random.permutation(len(distance_matrix))\n",
    "        particle = Particle(initial_position)\n",
    "        particle.best_fitness = calculate_fitness(initial_position, distance_matrix)\n",
    "        if particle.best_fitness < global_best_fitness:\n",
    "            global_best_position = initial_position.copy()\n",
    "            global_best_fitness = particle.best_fitness\n",
    "        particles.append(particle)\n",
    "\n",
    "    for _ in range(num_iterations):\n",
    "        for particle in particles:\n",
    "            update_particle_velocity(particle, global_best_position, w=0.5, c1=1, c2=2)\n",
    "            update_particle_position(particle)\n",
    "            fitness = calculate_fitness(particle.position, distance_matrix)\n",
    "            if fitness < particle.best_fitness:\n",
    "                particle.best_position = particle.position.copy()\n",
    "                particle.best_fitness = fitness\n",
    "                if fitness < global_best_fitness:\n",
    "                    global_best_position = particle.position.copy()\n",
    "                    global_best_fitness = fitness\n",
    "\n",
    "    return global_best_position, global_best_fitness\n",
    "\n",
    "# Example usage:\n",
    "distance_matrix = np.array([\n",
    "    [0, 10, 15, 20],\n",
    "    [10, 0, 35, 25],\n",
    "    [15, 35, 0, 30],\n",
    "    [20, 25, 30, 0]\n",
    "])\n",
    "\n",
    "best_position, best_fitness = pso(distance_matrix, num_particles=10, num_iterations=100)\n",
    "print(\"Best Position:\", best_position)\n",
    "print(\"Best Fitness:\", best_fitness)"
   ],
   "metadata": {
    "collapsed": false,
    "pycharm": {
     "name": "#%%\n"
    }
   }
  }
 ],
 "metadata": {
  "kernelspec": {
   "display_name": "Python 3",
   "language": "python",
   "name": "python3"
  },
  "language_info": {
   "codemirror_mode": {
    "name": "ipython",
    "version": 2
   },
   "file_extension": ".py",
   "mimetype": "text/x-python",
   "name": "python",
   "nbconvert_exporter": "python",
   "pygments_lexer": "ipython2",
   "version": "2.7.6"
  }
 },
 "nbformat": 4,
 "nbformat_minor": 0
}